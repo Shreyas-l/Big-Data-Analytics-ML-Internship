{
 "cells": [
  {
   "cell_type": "code",
   "execution_count": 5,
   "metadata": {},
   "outputs": [],
   "source": [
    "from imageai.Detection import ObjectDetection"
   ]
  },
  {
   "cell_type": "code",
   "execution_count": 6,
   "metadata": {},
   "outputs": [
    {
     "name": "stdout",
     "output_type": "stream",
     "text": [
      "bus  :  70.58258056640625\n",
      "car  :  54.04781103134155\n",
      "handbag  :  61.362266540527344\n",
      "handbag  :  66.45808815956116\n",
      "car  :  51.34672522544861\n",
      "person  :  78.78894805908203\n",
      "car  :  58.18591117858887\n",
      "person  :  64.02544975280762\n",
      "person  :  65.30051231384277\n",
      "person  :  75.15259981155396\n",
      "person  :  68.05713176727295\n",
      "person  :  65.108323097229\n",
      "person  :  57.30217099189758\n",
      "person  :  81.12925291061401\n",
      "person  :  71.83042764663696\n",
      "person  :  67.96960830688477\n",
      "person  :  54.79656457901001\n",
      "person  :  84.6057653427124\n",
      "person  :  72.32937216758728\n",
      "person  :  82.61526823043823\n",
      "bus  :  61.740851402282715\n"
     ]
    }
   ],
   "source": [
    "detector = ObjectDetection()\n",
    "detector.setModelTypeAsRetinaNet()\n",
    "detector.setModelPath(\"resnet50_coco_best_v2.0.1.h5\")\n",
    "detector.loadModel()\n",
    "detections = detector.detectObjectsFromImage(input_image='city_image.jpg', output_image_path='Desktop/3.jpg')\n",
    "\n",
    "for eachObject in detections:\n",
    "    print(eachObject[\"name\"] , \" : \" , eachObject[\"percentage_probability\"] )"
   ]
  },
  {
   "cell_type": "code",
   "execution_count": null,
   "metadata": {},
   "outputs": [],
   "source": []
  }
 ],
 "metadata": {
  "kernelspec": {
   "display_name": "Python 3",
   "language": "python",
   "name": "python3"
  },
  "language_info": {
   "codemirror_mode": {
    "name": "ipython",
    "version": 3
   },
   "file_extension": ".py",
   "mimetype": "text/x-python",
   "name": "python",
   "nbconvert_exporter": "python",
   "pygments_lexer": "ipython3",
   "version": "3.7.3"
  }
 },
 "nbformat": 4,
 "nbformat_minor": 2
}
